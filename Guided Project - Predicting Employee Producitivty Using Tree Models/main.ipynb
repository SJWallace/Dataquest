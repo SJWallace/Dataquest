{
 "cells": [
  {
   "metadata": {},
   "cell_type": "markdown",
   "source": [
    "# Guided Project: Predicting Employee Productivity Using Tree Models\n",
    "\n",
    "## Table of contents\n",
    "\n",
    "## Introduction\n",
    "We'll be looking at the garment industry and some stats about employees\n",
    "\n"
   ],
   "id": "a7290ddedea7abd7"
  },
  {
   "metadata": {
    "collapsed": true,
    "ExecuteTime": {
     "end_time": "2025-01-06T00:11:13.572940Z",
     "start_time": "2025-01-06T00:11:13.062373Z"
    }
   },
   "cell_type": "code",
   "source": [
    "import pandas as pd\n",
    "import numpy as np"
   ],
   "id": "initial_id",
   "outputs": [],
   "execution_count": 1
  },
  {
   "metadata": {
    "ExecuteTime": {
     "end_time": "2025-01-06T00:12:04.769111Z",
     "start_time": "2025-01-06T00:12:04.754129Z"
    }
   },
   "cell_type": "code",
   "source": "df = pd.read_csv('garments_worker_productivity.csv')",
   "id": "58562988b0028477",
   "outputs": [],
   "execution_count": 3
  },
  {
   "metadata": {},
   "cell_type": "markdown",
   "source": [
    "## Data Exploration\n",
    "\n",
    "The dataset is from a garment manufacturer about worker productivity and is available (https://archive.ics.uci\n",
    ".edu/dataset/597/productivity+prediction+of+garment+employees). The manufacturer is based in Bangladesh, and workers\n",
    "were paid in Bangladeshi Taka (**৳** / **BDT**)\n",
    "\n",
    "### Data Schema\n",
    "\n"
   ],
   "id": "7a6ae62e22d9d1e4"
  },
  {
   "metadata": {},
   "cell_type": "markdown",
   "source": [
    "| **Variable Name**       | **Role**       | **Type**          | **Description**                                                                            | **Units** | **Missing Values** |\n",
    "|-------------------------|----------------|--------------------|--------------------------------------------------------------------------------------------|-----------|---------------------|\n",
    "| `date`                  | Feature        | Date              | Date in MM-DD-YYYY                                                                         |           | no                  |\n",
    "| `quarter`               | Feature        | Categorical       | A portion of the month. A month was divided into four quarters                             |           | no                  |\n",
    "| `department`            | Feature        | Categorical       | Associated department with the instance                                                    |           | no                  |\n",
    "| `day`                   | Feature        | Categorical       | Day of the Week                                                                            |           | no                  |\n",
    "| `team_no`               | Feature        | Integer           | Associated team number with the instance                                                   |           | no                  |\n",
    "| `no_of_workers`         | Feature        | Integer           | Number of workers in each team                                                             |           | no                  |\n",
    "| `no_of_style_change`    | Feature        | Integer           | Number of changes in the style of a particular product                                     |           | no                  |\n",
    "| `targeted_productivity` | Feature        | Continuous        | Targeted productivity set by the Authority for each team for each day.                     |           | no                  |\n",
    "| `smv`                   | Feature        | Continuous        | Standard Minute Value, it is the allocated time for a task                                 |           | no                  |\n",
    "| `wip`                   | Feature        | Integer           | Work in progress. Includes the number of unfinished items for products                     |           | yes                 |\n",
    "| `over_time`             | Feature        | Integer           | Represents the amount of overtime by each team in minutes                                  |           | no                  |\n",
    "| `incentive`             | Feature        | Integer           | Represents the amount of financial incentive (in BDT) that enables or motivates a behavior | BDT       | no                  |\n",
    "| `idle_time`             | Feature        | Integer           | The amount of time when the production was <br/>interrupted due to several reasons         |           | no                  |\n",
    "| `idle_men`               | Feature        | Integer           | The number of workers who were idle due to production interruption                         |           | no                  |\n",
    "| `actual_productivity`     | Target         | Continuous        | The actual % of productivity that was delivered by the workers. It ranges from 0-1.        |           | no                  |"
   ],
   "id": "c0b5af155948b3b9"
  },
  {
   "metadata": {
    "ExecuteTime": {
     "end_time": "2025-01-06T00:25:43.012392Z",
     "start_time": "2025-01-06T00:25:43.009100Z"
    }
   },
   "cell_type": "code",
   "source": [
    "df.head()\n",
    "df.shape"
   ],
   "id": "39a25fb2e29560a8",
   "outputs": [
    {
     "data": {
      "text/plain": [
       "(1197, 15)"
      ]
     },
     "execution_count": 8,
     "metadata": {},
     "output_type": "execute_result"
    }
   ],
   "execution_count": 8
  },
  {
   "metadata": {},
   "cell_type": "markdown",
   "source": [
    "~ 1200 rows and 14 features\n",
    "\n",
    "### Missing values\n",
    "The schema indicates there is some missing data for the `wip` feature. Perhaps it was an initiative introduced at\n",
    "some point during the collection of this data set. Let's check it out"
   ],
   "id": "3a8bba6f6ab6be21"
  },
  {
   "metadata": {
    "ExecuteTime": {
     "end_time": "2025-01-06T00:20:22.639424Z",
     "start_time": "2025-01-06T00:20:22.634426Z"
    }
   },
   "cell_type": "code",
   "source": "df['wip'].describe()",
   "id": "8199f2ba8af75089",
   "outputs": [
    {
     "data": {
      "text/plain": [
       "count      691.000000\n",
       "mean      1190.465991\n",
       "std       1837.455001\n",
       "min          7.000000\n",
       "25%        774.500000\n",
       "50%       1039.000000\n",
       "75%       1252.500000\n",
       "max      23122.000000\n",
       "Name: wip, dtype: float64"
      ]
     },
     "execution_count": 5,
     "metadata": {},
     "output_type": "execute_result"
    }
   ],
   "execution_count": 5
  },
  {
   "metadata": {
    "ExecuteTime": {
     "end_time": "2025-01-06T00:24:16.244921Z",
     "start_time": "2025-01-06T00:24:16.241281Z"
    }
   },
   "cell_type": "code",
   "source": [
    "non_numeric_count = df['wip'].apply(pd.to_numeric, errors='coerce').isnull().sum()\n",
    "print(\"Number of non-numeric values:\", non_numeric_count)"
   ],
   "id": "3a0b465add5a6290",
   "outputs": [
    {
     "name": "stdout",
     "output_type": "stream",
     "text": [
      "Number of non-numeric values: 506\n"
     ]
    }
   ],
   "execution_count": 6
  },
  {
   "metadata": {},
   "cell_type": "markdown",
   "source": "It looks about a half of the data set is missing that for this feature. That's too much to exclude",
   "id": "efdbbe159786a260"
  },
  {
   "metadata": {},
   "cell_type": "markdown",
   "source": "### Data shapes",
   "id": "3720442ba5999c3d"
  },
  {
   "metadata": {
    "ExecuteTime": {
     "end_time": "2025-01-06T00:42:22.014128Z",
     "start_time": "2025-01-06T00:42:22.007095Z"
    }
   },
   "cell_type": "code",
   "source": [
    "unique_counts = {col: df[col].nunique() for col in df.columns}\n",
    "unique_counts"
   ],
   "id": "868436903a85ea6b",
   "outputs": [
    {
     "data": {
      "text/plain": [
       "{'date': 59,\n",
       " 'quarter': 5,\n",
       " 'department': 3,\n",
       " 'day': 6,\n",
       " 'team': 12,\n",
       " 'targeted_productivity': 9,\n",
       " 'smv': 70,\n",
       " 'wip': 548,\n",
       " 'over_time': 143,\n",
       " 'incentive': 48,\n",
       " 'idle_time': 12,\n",
       " 'idle_men': 10,\n",
       " 'no_of_style_change': 3,\n",
       " 'no_of_workers': 61,\n",
       " 'actual_productivity': 879}"
      ]
     },
     "execution_count": 9,
     "metadata": {},
     "output_type": "execute_result"
    }
   ],
   "execution_count": 9
  },
  {
   "metadata": {},
   "cell_type": "markdown",
   "source": [
    "There's 3 `department`s, 12 `team`s, 61 team sizes, interestingly, the `targeted_productivity` and the\n",
    "`actual_productivity` have about two orders of magnitude difference. Indicating that for a given `target_productivity`\n",
    "there could be 10 to 100 values for it's `actual_productivity`"
   ],
   "id": "3b2189c31ca047e4"
  },
  {
   "metadata": {
    "ExecuteTime": {
     "end_time": "2025-01-06T00:47:45.166279Z",
     "start_time": "2025-01-06T00:47:45.161392Z"
    }
   },
   "cell_type": "code",
   "source": "{col: df[col].unique() for col in ['team', 'idle_time', 'idle_men', 'no_of_style_change', 'targeted_productivity']}",
   "id": "6122ec792a92f849",
   "outputs": [
    {
     "data": {
      "text/plain": [
       "{'team': array([ 8,  1, 11, 12,  6,  7,  2,  3,  9, 10,  5,  4]),\n",
       " 'idle_time': array([  0. ,  90. , 150. , 270. , 300. ,   2. ,   5. ,   8. ,   4.5,\n",
       "          3.5,   4. ,   6.5]),\n",
       " 'idle_men': array([ 0, 10, 15, 45, 37, 30, 35, 20, 25, 40]),\n",
       " 'no_of_style_change': array([0, 1, 2]),\n",
       " 'targeted_productivity': array([0.8 , 0.75, 0.7 , 0.65, 0.6 , 0.35, 0.5 , 0.07, 0.4 ])}"
      ]
     },
     "execution_count": 12,
     "metadata": {},
     "output_type": "execute_result"
    }
   ],
   "execution_count": 12
  },
  {
   "metadata": {},
   "cell_type": "markdown",
   "source": [
    "`targeted_productivity` ranges from 0.8 to 0.35, but there appears to be a value of 0.07, which is an odd target\n",
    "value given the rest are in increments of 5. It could be a data entry problem and the real target was 0.7\n",
    "`idle_men` indicates that anywhere from 12% to 66% of work force could be waiting for production to start.\n",
    "`idle_time` currently unsure if this is in minutes, seconds, hours. It's an odd range. We may need to do some\n",
    "cleaning of this as well\n"
   ],
   "id": "5c9e30e0ebd16e69"
  },
  {
   "metadata": {
    "ExecuteTime": {
     "end_time": "2025-01-06T00:55:50.677244Z",
     "start_time": "2025-01-06T00:55:50.673323Z"
    }
   },
   "cell_type": "code",
   "source": "df['idle_time'].value_counts()",
   "id": "8ffed810022bf249",
   "outputs": [
    {
     "data": {
      "text/plain": [
       "idle_time\n",
       "0.0      1179\n",
       "3.5         3\n",
       "2.0         2\n",
       "8.0         2\n",
       "4.0         2\n",
       "4.5         2\n",
       "5.0         2\n",
       "90.0        1\n",
       "270.0       1\n",
       "150.0       1\n",
       "300.0       1\n",
       "6.5         1\n",
       "Name: count, dtype: int64"
      ]
     },
     "execution_count": 13,
     "metadata": {},
     "output_type": "execute_result"
    }
   ],
   "execution_count": 13
  },
  {
   "metadata": {},
   "cell_type": "markdown",
   "source": [
    "Only 18 `idle_time` values that are non-zero, interesting. Probably indicating this feature is not going to be a\n",
    "great predictor of productivity given the limited data, but it would be unfair to ignore it"
   ],
   "id": "81def2af5249d87c"
  },
  {
   "metadata": {
    "ExecuteTime": {
     "end_time": "2025-01-06T00:58:09.310311Z",
     "start_time": "2025-01-06T00:58:09.307151Z"
    }
   },
   "cell_type": "code",
   "source": "df['idle_men'].value_counts()",
   "id": "9cdfef542c885f19",
   "outputs": [
    {
     "data": {
      "text/plain": [
       "idle_men\n",
       "0     1179\n",
       "10       3\n",
       "15       3\n",
       "30       3\n",
       "20       3\n",
       "35       2\n",
       "37       1\n",
       "45       1\n",
       "25       1\n",
       "40       1\n",
       "Name: count, dtype: int64"
      ]
     },
     "execution_count": 14,
     "metadata": {},
     "output_type": "execute_result"
    }
   ],
   "execution_count": 14
  },
  {
   "metadata": {},
   "cell_type": "markdown",
   "source": "There's 18 non-zero values for `idle_men` as well. Let's take a look at those data entries",
   "id": "91f8d800b2f4360d"
  },
  {
   "metadata": {
    "ExecuteTime": {
     "end_time": "2025-01-06T01:01:45.730288Z",
     "start_time": "2025-01-06T01:01:45.720408Z"
    }
   },
   "cell_type": "code",
   "source": "df[(df['idle_men'] > 0) & (df['idle_time'] > 0)]",
   "id": "eefe9dc1df91fad6",
   "outputs": [
    {
     "data": {
      "text/plain": [
       "           date   quarter department        day  team  targeted_productivity  \\\n",
       "615    2/4/2015  Quarter1     sweing  Wednesday     5                   0.65   \n",
       "617    2/4/2015  Quarter1     sweing  Wednesday     4                   0.35   \n",
       "650    2/7/2015  Quarter1     sweing   Saturday     7                   0.70   \n",
       "654    2/7/2015  Quarter1     sweing   Saturday     8                   0.70   \n",
       "775   2/15/2015  Quarter3     sweing     Sunday     8                   0.70   \n",
       "798   2/16/2015  Quarter3     sweing     Monday     8                   0.70   \n",
       "818   2/17/2015  Quarter3     sweing    Tuesday     8                   0.60   \n",
       "822   2/17/2015  Quarter3     sweing    Tuesday    10                   0.65   \n",
       "841   2/18/2015  Quarter3     sweing  Wednesday    10                   0.70   \n",
       "843   2/18/2015  Quarter3     sweing  Wednesday     8                   0.65   \n",
       "848   2/19/2015  Quarter3     sweing   Thursday     5                   0.80   \n",
       "860   2/19/2015  Quarter3     sweing   Thursday     7                   0.75   \n",
       "880   2/22/2015  Quarter4     sweing     Sunday     7                   0.75   \n",
       "882   2/22/2015  Quarter4     sweing     Sunday     5                   0.80   \n",
       "996    3/1/2015  Quarter1     sweing     Sunday    11                   0.80   \n",
       "1001   3/1/2015  Quarter1     sweing     Sunday     7                   0.80   \n",
       "1046   3/3/2015  Quarter1     sweing    Tuesday     2                   0.40   \n",
       "1085   3/5/2015  Quarter1     sweing   Thursday     7                   0.80   \n",
       "\n",
       "        smv     wip  over_time  incentive  idle_time  idle_men  \\\n",
       "615   30.10   326.0       5820          0       90.0        10   \n",
       "617   30.10   287.0       6060         23      150.0        15   \n",
       "650   24.26   658.0       6960          0      270.0        45   \n",
       "654   24.26   652.0       6840          0      300.0        37   \n",
       "775   30.10   507.0       5880         40        2.0        10   \n",
       "798   30.10     7.0       7080         27        2.0        10   \n",
       "818   29.40   179.0          0         23        5.0        30   \n",
       "822   18.22   741.0          0          0        8.0        35   \n",
       "841   19.68  1119.0       5640          0        8.0        35   \n",
       "843   29.40   962.0       4560          0        4.5        30   \n",
       "848   30.10   276.0        600         63        3.5        15   \n",
       "860   30.10   444.0          0          0        5.0        20   \n",
       "880   30.10   627.0       6960          0        3.5        20   \n",
       "882   30.10   450.0       5700          0        4.5        25   \n",
       "996   11.61   347.0          0         50        4.0        20   \n",
       "1001  30.10   934.0       6960          0        3.5        15   \n",
       "1046  15.28   157.0       5400          0        6.5        30   \n",
       "1085  30.10   834.0       1200          0        4.0        40   \n",
       "\n",
       "      no_of_style_change  no_of_workers  actual_productivity  \n",
       "615                    0           58.5             0.650835  \n",
       "617                    0           55.5             0.350706  \n",
       "650                    0           58.0             0.662270  \n",
       "654                    0           57.0             0.365319  \n",
       "775                    1           59.0             0.700573  \n",
       "798                    2           59.0             0.621972  \n",
       "818                    2           58.0             0.600983  \n",
       "822                    1           49.0             0.302117  \n",
       "841                    1           47.0             0.303574  \n",
       "843                    2           57.0             0.251399  \n",
       "848                    0           59.5             0.799983  \n",
       "860                    1           59.0             0.611141  \n",
       "880                    1           58.0             0.393549  \n",
       "882                    0           60.0             0.307501  \n",
       "996                    0           57.0             0.682433  \n",
       "1001                   0           58.0             0.579511  \n",
       "1046                   1           45.0             0.302770  \n",
       "1085                   0           59.0             0.366054  "
      ],
      "text/html": [
       "<div>\n",
       "<style scoped>\n",
       "    .dataframe tbody tr th:only-of-type {\n",
       "        vertical-align: middle;\n",
       "    }\n",
       "\n",
       "    .dataframe tbody tr th {\n",
       "        vertical-align: top;\n",
       "    }\n",
       "\n",
       "    .dataframe thead th {\n",
       "        text-align: right;\n",
       "    }\n",
       "</style>\n",
       "<table border=\"1\" class=\"dataframe\">\n",
       "  <thead>\n",
       "    <tr style=\"text-align: right;\">\n",
       "      <th></th>\n",
       "      <th>date</th>\n",
       "      <th>quarter</th>\n",
       "      <th>department</th>\n",
       "      <th>day</th>\n",
       "      <th>team</th>\n",
       "      <th>targeted_productivity</th>\n",
       "      <th>smv</th>\n",
       "      <th>wip</th>\n",
       "      <th>over_time</th>\n",
       "      <th>incentive</th>\n",
       "      <th>idle_time</th>\n",
       "      <th>idle_men</th>\n",
       "      <th>no_of_style_change</th>\n",
       "      <th>no_of_workers</th>\n",
       "      <th>actual_productivity</th>\n",
       "    </tr>\n",
       "  </thead>\n",
       "  <tbody>\n",
       "    <tr>\n",
       "      <th>615</th>\n",
       "      <td>2/4/2015</td>\n",
       "      <td>Quarter1</td>\n",
       "      <td>sweing</td>\n",
       "      <td>Wednesday</td>\n",
       "      <td>5</td>\n",
       "      <td>0.65</td>\n",
       "      <td>30.10</td>\n",
       "      <td>326.0</td>\n",
       "      <td>5820</td>\n",
       "      <td>0</td>\n",
       "      <td>90.0</td>\n",
       "      <td>10</td>\n",
       "      <td>0</td>\n",
       "      <td>58.5</td>\n",
       "      <td>0.650835</td>\n",
       "    </tr>\n",
       "    <tr>\n",
       "      <th>617</th>\n",
       "      <td>2/4/2015</td>\n",
       "      <td>Quarter1</td>\n",
       "      <td>sweing</td>\n",
       "      <td>Wednesday</td>\n",
       "      <td>4</td>\n",
       "      <td>0.35</td>\n",
       "      <td>30.10</td>\n",
       "      <td>287.0</td>\n",
       "      <td>6060</td>\n",
       "      <td>23</td>\n",
       "      <td>150.0</td>\n",
       "      <td>15</td>\n",
       "      <td>0</td>\n",
       "      <td>55.5</td>\n",
       "      <td>0.350706</td>\n",
       "    </tr>\n",
       "    <tr>\n",
       "      <th>650</th>\n",
       "      <td>2/7/2015</td>\n",
       "      <td>Quarter1</td>\n",
       "      <td>sweing</td>\n",
       "      <td>Saturday</td>\n",
       "      <td>7</td>\n",
       "      <td>0.70</td>\n",
       "      <td>24.26</td>\n",
       "      <td>658.0</td>\n",
       "      <td>6960</td>\n",
       "      <td>0</td>\n",
       "      <td>270.0</td>\n",
       "      <td>45</td>\n",
       "      <td>0</td>\n",
       "      <td>58.0</td>\n",
       "      <td>0.662270</td>\n",
       "    </tr>\n",
       "    <tr>\n",
       "      <th>654</th>\n",
       "      <td>2/7/2015</td>\n",
       "      <td>Quarter1</td>\n",
       "      <td>sweing</td>\n",
       "      <td>Saturday</td>\n",
       "      <td>8</td>\n",
       "      <td>0.70</td>\n",
       "      <td>24.26</td>\n",
       "      <td>652.0</td>\n",
       "      <td>6840</td>\n",
       "      <td>0</td>\n",
       "      <td>300.0</td>\n",
       "      <td>37</td>\n",
       "      <td>0</td>\n",
       "      <td>57.0</td>\n",
       "      <td>0.365319</td>\n",
       "    </tr>\n",
       "    <tr>\n",
       "      <th>775</th>\n",
       "      <td>2/15/2015</td>\n",
       "      <td>Quarter3</td>\n",
       "      <td>sweing</td>\n",
       "      <td>Sunday</td>\n",
       "      <td>8</td>\n",
       "      <td>0.70</td>\n",
       "      <td>30.10</td>\n",
       "      <td>507.0</td>\n",
       "      <td>5880</td>\n",
       "      <td>40</td>\n",
       "      <td>2.0</td>\n",
       "      <td>10</td>\n",
       "      <td>1</td>\n",
       "      <td>59.0</td>\n",
       "      <td>0.700573</td>\n",
       "    </tr>\n",
       "    <tr>\n",
       "      <th>798</th>\n",
       "      <td>2/16/2015</td>\n",
       "      <td>Quarter3</td>\n",
       "      <td>sweing</td>\n",
       "      <td>Monday</td>\n",
       "      <td>8</td>\n",
       "      <td>0.70</td>\n",
       "      <td>30.10</td>\n",
       "      <td>7.0</td>\n",
       "      <td>7080</td>\n",
       "      <td>27</td>\n",
       "      <td>2.0</td>\n",
       "      <td>10</td>\n",
       "      <td>2</td>\n",
       "      <td>59.0</td>\n",
       "      <td>0.621972</td>\n",
       "    </tr>\n",
       "    <tr>\n",
       "      <th>818</th>\n",
       "      <td>2/17/2015</td>\n",
       "      <td>Quarter3</td>\n",
       "      <td>sweing</td>\n",
       "      <td>Tuesday</td>\n",
       "      <td>8</td>\n",
       "      <td>0.60</td>\n",
       "      <td>29.40</td>\n",
       "      <td>179.0</td>\n",
       "      <td>0</td>\n",
       "      <td>23</td>\n",
       "      <td>5.0</td>\n",
       "      <td>30</td>\n",
       "      <td>2</td>\n",
       "      <td>58.0</td>\n",
       "      <td>0.600983</td>\n",
       "    </tr>\n",
       "    <tr>\n",
       "      <th>822</th>\n",
       "      <td>2/17/2015</td>\n",
       "      <td>Quarter3</td>\n",
       "      <td>sweing</td>\n",
       "      <td>Tuesday</td>\n",
       "      <td>10</td>\n",
       "      <td>0.65</td>\n",
       "      <td>18.22</td>\n",
       "      <td>741.0</td>\n",
       "      <td>0</td>\n",
       "      <td>0</td>\n",
       "      <td>8.0</td>\n",
       "      <td>35</td>\n",
       "      <td>1</td>\n",
       "      <td>49.0</td>\n",
       "      <td>0.302117</td>\n",
       "    </tr>\n",
       "    <tr>\n",
       "      <th>841</th>\n",
       "      <td>2/18/2015</td>\n",
       "      <td>Quarter3</td>\n",
       "      <td>sweing</td>\n",
       "      <td>Wednesday</td>\n",
       "      <td>10</td>\n",
       "      <td>0.70</td>\n",
       "      <td>19.68</td>\n",
       "      <td>1119.0</td>\n",
       "      <td>5640</td>\n",
       "      <td>0</td>\n",
       "      <td>8.0</td>\n",
       "      <td>35</td>\n",
       "      <td>1</td>\n",
       "      <td>47.0</td>\n",
       "      <td>0.303574</td>\n",
       "    </tr>\n",
       "    <tr>\n",
       "      <th>843</th>\n",
       "      <td>2/18/2015</td>\n",
       "      <td>Quarter3</td>\n",
       "      <td>sweing</td>\n",
       "      <td>Wednesday</td>\n",
       "      <td>8</td>\n",
       "      <td>0.65</td>\n",
       "      <td>29.40</td>\n",
       "      <td>962.0</td>\n",
       "      <td>4560</td>\n",
       "      <td>0</td>\n",
       "      <td>4.5</td>\n",
       "      <td>30</td>\n",
       "      <td>2</td>\n",
       "      <td>57.0</td>\n",
       "      <td>0.251399</td>\n",
       "    </tr>\n",
       "    <tr>\n",
       "      <th>848</th>\n",
       "      <td>2/19/2015</td>\n",
       "      <td>Quarter3</td>\n",
       "      <td>sweing</td>\n",
       "      <td>Thursday</td>\n",
       "      <td>5</td>\n",
       "      <td>0.80</td>\n",
       "      <td>30.10</td>\n",
       "      <td>276.0</td>\n",
       "      <td>600</td>\n",
       "      <td>63</td>\n",
       "      <td>3.5</td>\n",
       "      <td>15</td>\n",
       "      <td>0</td>\n",
       "      <td>59.5</td>\n",
       "      <td>0.799983</td>\n",
       "    </tr>\n",
       "    <tr>\n",
       "      <th>860</th>\n",
       "      <td>2/19/2015</td>\n",
       "      <td>Quarter3</td>\n",
       "      <td>sweing</td>\n",
       "      <td>Thursday</td>\n",
       "      <td>7</td>\n",
       "      <td>0.75</td>\n",
       "      <td>30.10</td>\n",
       "      <td>444.0</td>\n",
       "      <td>0</td>\n",
       "      <td>0</td>\n",
       "      <td>5.0</td>\n",
       "      <td>20</td>\n",
       "      <td>1</td>\n",
       "      <td>59.0</td>\n",
       "      <td>0.611141</td>\n",
       "    </tr>\n",
       "    <tr>\n",
       "      <th>880</th>\n",
       "      <td>2/22/2015</td>\n",
       "      <td>Quarter4</td>\n",
       "      <td>sweing</td>\n",
       "      <td>Sunday</td>\n",
       "      <td>7</td>\n",
       "      <td>0.75</td>\n",
       "      <td>30.10</td>\n",
       "      <td>627.0</td>\n",
       "      <td>6960</td>\n",
       "      <td>0</td>\n",
       "      <td>3.5</td>\n",
       "      <td>20</td>\n",
       "      <td>1</td>\n",
       "      <td>58.0</td>\n",
       "      <td>0.393549</td>\n",
       "    </tr>\n",
       "    <tr>\n",
       "      <th>882</th>\n",
       "      <td>2/22/2015</td>\n",
       "      <td>Quarter4</td>\n",
       "      <td>sweing</td>\n",
       "      <td>Sunday</td>\n",
       "      <td>5</td>\n",
       "      <td>0.80</td>\n",
       "      <td>30.10</td>\n",
       "      <td>450.0</td>\n",
       "      <td>5700</td>\n",
       "      <td>0</td>\n",
       "      <td>4.5</td>\n",
       "      <td>25</td>\n",
       "      <td>0</td>\n",
       "      <td>60.0</td>\n",
       "      <td>0.307501</td>\n",
       "    </tr>\n",
       "    <tr>\n",
       "      <th>996</th>\n",
       "      <td>3/1/2015</td>\n",
       "      <td>Quarter1</td>\n",
       "      <td>sweing</td>\n",
       "      <td>Sunday</td>\n",
       "      <td>11</td>\n",
       "      <td>0.80</td>\n",
       "      <td>11.61</td>\n",
       "      <td>347.0</td>\n",
       "      <td>0</td>\n",
       "      <td>50</td>\n",
       "      <td>4.0</td>\n",
       "      <td>20</td>\n",
       "      <td>0</td>\n",
       "      <td>57.0</td>\n",
       "      <td>0.682433</td>\n",
       "    </tr>\n",
       "    <tr>\n",
       "      <th>1001</th>\n",
       "      <td>3/1/2015</td>\n",
       "      <td>Quarter1</td>\n",
       "      <td>sweing</td>\n",
       "      <td>Sunday</td>\n",
       "      <td>7</td>\n",
       "      <td>0.80</td>\n",
       "      <td>30.10</td>\n",
       "      <td>934.0</td>\n",
       "      <td>6960</td>\n",
       "      <td>0</td>\n",
       "      <td>3.5</td>\n",
       "      <td>15</td>\n",
       "      <td>0</td>\n",
       "      <td>58.0</td>\n",
       "      <td>0.579511</td>\n",
       "    </tr>\n",
       "    <tr>\n",
       "      <th>1046</th>\n",
       "      <td>3/3/2015</td>\n",
       "      <td>Quarter1</td>\n",
       "      <td>sweing</td>\n",
       "      <td>Tuesday</td>\n",
       "      <td>2</td>\n",
       "      <td>0.40</td>\n",
       "      <td>15.28</td>\n",
       "      <td>157.0</td>\n",
       "      <td>5400</td>\n",
       "      <td>0</td>\n",
       "      <td>6.5</td>\n",
       "      <td>30</td>\n",
       "      <td>1</td>\n",
       "      <td>45.0</td>\n",
       "      <td>0.302770</td>\n",
       "    </tr>\n",
       "    <tr>\n",
       "      <th>1085</th>\n",
       "      <td>3/5/2015</td>\n",
       "      <td>Quarter1</td>\n",
       "      <td>sweing</td>\n",
       "      <td>Thursday</td>\n",
       "      <td>7</td>\n",
       "      <td>0.80</td>\n",
       "      <td>30.10</td>\n",
       "      <td>834.0</td>\n",
       "      <td>1200</td>\n",
       "      <td>0</td>\n",
       "      <td>4.0</td>\n",
       "      <td>40</td>\n",
       "      <td>0</td>\n",
       "      <td>59.0</td>\n",
       "      <td>0.366054</td>\n",
       "    </tr>\n",
       "  </tbody>\n",
       "</table>\n",
       "</div>"
      ]
     },
     "execution_count": 15,
     "metadata": {},
     "output_type": "execute_result"
    }
   ],
   "execution_count": 15
  },
  {
   "metadata": {},
   "cell_type": "markdown",
   "source": "### Targeted vs Actual productivity",
   "id": "10aaae55ac0a83aa"
  },
  {
   "metadata": {
    "ExecuteTime": {
     "end_time": "2025-01-06T01:12:07.326218Z",
     "start_time": "2025-01-06T01:12:07.200868Z"
    }
   },
   "cell_type": "code",
   "source": [
    "import matplotlib.pyplot as plt\n",
    "\n",
    "plt.figure(figsize=(10, 6))\n",
    "\n",
    "# Create scatter plot for points with idle time > 0 (stars)\n",
    "scatter_idle_time = plt.scatter(\n",
    "    df[df['idle_time'] > 0]['targeted_productivity'],\n",
    "    df[df['idle_time'] > 0]['actual_productivity'],\n",
    "    marker='*', c='orange', label='Idle Time > 0', alpha=0.7, edgecolor='k', s=150\n",
    ")\n",
    "\n",
    "# Create scatter plot for points with incentive > 0 (colored differently)\n",
    "scatter_incentive = plt.scatter(\n",
    "    df[df['incentive'] > 0]['targeted_productivity'],\n",
    "    df[df['incentive'] > 0]['actual_productivity'],\n",
    "    marker='o', c='blue', label='Incentive > 0', alpha=0.7, edgecolor='k', s=100\n",
    ")\n",
    "\n",
    "# Create scatter plot for points with neither condition (default appearance)\n",
    "scatter_default = plt.scatter(\n",
    "    df[(df['idle_time'] == 0) & (df['incentive'] == 0)]['targeted_productivity'],\n",
    "    df[(df['idle_time'] == 0) & (df['incentive'] == 0)]['actual_productivity'],\n",
    "    marker='o', c='gray', label='No Idle Time or Incentive', alpha=0.7, edgecolor='k'\n",
    ")\n",
    "\n",
    "# Add a 1:1 line for targeted vs actual productivity\n",
    "plt.plot([0, 1], [0, 1], 'r--', label='1:1 Line')\n",
    "\n",
    "plt.title(\"Targeted vs Actual Productivity\")\n",
    "plt.xlabel(\"Targeted Productivity\")\n",
    "plt.ylabel(\"Actual Productivity\")\n",
    "plt.legend()\n",
    "plt.grid(alpha=0.3)\n",
    "plt.show()"
   ],
   "id": "92379ad1bd762963",
   "outputs": [
    {
     "data": {
      "text/plain": [
       "<Figure size 1000x600 with 1 Axes>"
      ],
      "image/png": "[encoded data removed]"
     },
     "metadata": {},
     "output_type": "display_data"
    }
   ],
   "execution_count": 22
  }
 ],
 "metadata": {
  "kernelspec": {
   "display_name": "Python 3",
   "language": "python",
   "name": "python3"
  },
  "language_info": {
   "codemirror_mode": {
    "name": "ipython",
    "version": 2
   },
   "file_extension": ".py",
   "mimetype": "text/x-python",
   "name": "python",
   "nbconvert_exporter": "python",
   "pygments_lexer": "ipython2",
   "version": "2.7.6"
  }
 },
 "nbformat": 4,
 "nbformat_minor": 5
}
