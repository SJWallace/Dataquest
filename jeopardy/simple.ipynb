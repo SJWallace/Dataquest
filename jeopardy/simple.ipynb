{
 "cells": [
  {
   "metadata": {},
   "cell_type": "markdown",
   "source": [
    "# Jupyter notebook sample"
   ],
   "id": "8a77807f92f26ee"
  },
  {
   "metadata": {
    "ExecuteTime": {
     "end_time": "2024-10-04T07:03:58.446020Z",
     "start_time": "2024-10-04T07:03:58.443591Z"
    }
   },
   "cell_type": "code",
   "source": [
    "# Import libraries\n",
    "import pandas as pd\n",
    "import matplotlib.pyplot as plt\n",
    "import gdown\n",
    "import os\n",
    "import string"
   ],
   "id": "7df9140457caed5e",
   "outputs": [],
   "execution_count": 8
  },
  {
   "metadata": {
    "ExecuteTime": {
     "end_time": "2024-10-04T07:01:00.582203Z",
     "start_time": "2024-10-04T07:01:00.335847Z"
    }
   },
   "cell_type": "code",
   "source": [
    "\n",
    "\n",
    "# URL of the file\n",
    "url = 'https://drive.google.com/uc?id=0BwT5wj_P7BKXUl9tOUJWYzVvUjA&export=download'  # Changed to correct download URL format\n",
    "output = 'jeopardy.csv'  # Specify the output filename\n",
    "\n",
    "# Download the file from Google Drive\n",
    "# Check if the file already exists\n",
    "if not os.path.exists(output):\n",
    "    print(f\"{output} not found, downloading the file...\")\n",
    "    # Download the file\n",
    "    gdown.download(url, output, quiet=False)\n",
    "else:\n",
    "    print(f\"{output} already exists, skipping download.\")\n",
    "\n",
    "# Read the dataset into a DataFrame\n",
    "jeopardy = pd.read_csv(output)\n",
    "\n",
    "# Print the first 5 rows of the DataFrame\n",
    "print(jeopardy.head())\n",
    "\n",
    "# Print the column names of the DataFrame\n",
    "print(jeopardy.columns)\n",
    "\n",
    "# Strip spaces from the column names\n",
    "jeopardy.columns = jeopardy.columns.str.strip()\n",
    "\n",
    "# Print the fixed column names\n",
    "print(jeopardy.columns)"
   ],
   "id": "b72c2b57b0776278",
   "outputs": [
    {
     "name": "stdout",
     "output_type": "stream",
     "text": [
      "jeopardy.csv already exists, skipping download.\n",
      "   Show Number    Air Date      Round                         Category  Value  \\\n",
      "0         4680  2004-12-31  Jeopardy!                          HISTORY   $200   \n",
      "1         4680  2004-12-31  Jeopardy!  ESPN's TOP 10 ALL-TIME ATHLETES   $200   \n",
      "2         4680  2004-12-31  Jeopardy!      EVERYBODY TALKS ABOUT IT...   $200   \n",
      "3         4680  2004-12-31  Jeopardy!                 THE COMPANY LINE   $200   \n",
      "4         4680  2004-12-31  Jeopardy!              EPITAPHS & TRIBUTES   $200   \n",
      "\n",
      "                                            Question      Answer  \n",
      "0  For the last 8 years of his life, Galileo was ...  Copernicus  \n",
      "1  No. 2: 1912 Olympian; football star at Carlisl...  Jim Thorpe  \n",
      "2  The city of Yuma in this state has a record av...     Arizona  \n",
      "3  In 1963, live on \"The Art Linkletter Show\", th...  McDonald's  \n",
      "4  Signer of the Dec. of Indep., framer of the Co...  John Adams  \n",
      "Index(['Show Number', ' Air Date', ' Round', ' Category', ' Value',\n",
      "       ' Question', ' Answer'],\n",
      "      dtype='object')\n",
      "Index(['Show Number', 'Air Date', 'Round', 'Category', 'Value', 'Question',\n",
      "       'Answer'],\n",
      "      dtype='object')\n"
     ]
    }
   ],
   "execution_count": 7
  },
  {
   "metadata": {
    "ExecuteTime": {
     "end_time": "2024-10-04T07:06:54.980967Z",
     "start_time": "2024-10-04T07:06:54.245958Z"
    }
   },
   "cell_type": "code",
   "source": [
    "\n",
    "\n",
    "# Define the normalization function\n",
    "def normalize_string(text):\n",
    "    # Convert the text to lowercase\n",
    "    text = text.lower()\n",
    "\n",
    "    # Remove all punctuation using string.punctuation\n",
    "    text = text.translate(str.maketrans('', '', string.punctuation))\n",
    "\n",
    "    return text\n",
    "\n",
    "\n",
    "# Apply normalization to both Question and Answer columns and create clean columns\n",
    "jeopardy['clean_question'] = jeopardy['Question'].astype(str).apply(normalize_string)\n",
    "jeopardy['clean_answer'] = jeopardy['Answer'].astype(str).apply(normalize_string)\n",
    "\n",
    "# Display the first 5 rows of the normalized columns\n",
    "print(jeopardy[['Question', 'clean_question', 'Answer', 'clean_answer']].head())"
   ],
   "id": "9df9481a0dde787d",
   "outputs": [
    {
     "name": "stdout",
     "output_type": "stream",
     "text": [
      "                                            Question  \\\n",
      "0  For the last 8 years of his life, Galileo was ...   \n",
      "1  No. 2: 1912 Olympian; football star at Carlisl...   \n",
      "2  The city of Yuma in this state has a record av...   \n",
      "3  In 1963, live on \"The Art Linkletter Show\", th...   \n",
      "4  Signer of the Dec. of Indep., framer of the Co...   \n",
      "\n",
      "                                      clean_question      Answer clean_answer  \n",
      "0  for the last 8 years of his life galileo was u...  Copernicus   copernicus  \n",
      "1  no 2 1912 olympian football star at carlisle i...  Jim Thorpe   jim thorpe  \n",
      "2  the city of yuma in this state has a record av...     Arizona      arizona  \n",
      "3  in 1963 live on the art linkletter show this c...  McDonald's    mcdonalds  \n",
      "4  signer of the dec of indep framer of the const...  John Adams   john adams  \n"
     ]
    }
   ],
   "execution_count": 11
  },
  {
   "metadata": {},
   "cell_type": "code",
   "outputs": [],
   "execution_count": null,
   "source": "",
   "id": "47d87e8bf3867de5"
  },
  {
   "metadata": {
    "ExecuteTime": {
     "end_time": "2024-10-04T07:09:07.374883Z",
     "start_time": "2024-10-04T07:09:07.157888Z"
    }
   },
   "cell_type": "code",
   "source": [
    "# Function to normalize dollar values\n",
    "def normalize_dollar_value(value):\n",
    "    try:\n",
    "        # Remove any punctuation (commas, dollar signs) and convert to integer\n",
    "        value = value.translate(str.maketrans('', '', string.punctuation))\n",
    "        return int(value)\n",
    "    except (ValueError, TypeError):\n",
    "        # Return 0 if there's a conversion error\n",
    "        return 0\n",
    "\n",
    "\n",
    "# Assuming 'jeopardy' is the DataFrame containing the data\n",
    "# Normalize the Value column and create a clean_value column\n",
    "jeopardy['clean_value'] = jeopardy['Value'].astype(str).apply(normalize_dollar_value)\n",
    "\n",
    "# Convert the Air Date column to a datetime column\n",
    "jeopardy['Air Date'] = pd.to_datetime(jeopardy['Air Date'], errors='coerce')\n",
    "\n",
    "# Print the first 5 rows of the cleaned DataFrame to see the changes\n",
    "print(jeopardy[['Value', 'clean_value', 'Air Date']].head())"
   ],
   "id": "c0e59060a721bfc7",
   "outputs": [
    {
     "name": "stdout",
     "output_type": "stream",
     "text": [
      "  Value  clean_value   Air Date\n",
      "0  $200          200 2004-12-31\n",
      "1  $200          200 2004-12-31\n",
      "2  $200          200 2004-12-31\n",
      "3  $200          200 2004-12-31\n",
      "4  $200          200 2004-12-31\n"
     ]
    }
   ],
   "execution_count": 13
  },
  {
   "metadata": {
    "ExecuteTime": {
     "end_time": "2024-10-04T07:10:35.456623Z",
     "start_time": "2024-10-04T07:10:34.587985Z"
    }
   },
   "cell_type": "code",
   "source": [
    "\n",
    "# Define the function to count how often words in the answer appear in the question\n",
    "def answer_in_question(row):\n",
    "    # Split clean_answer and clean_question into lists of words\n",
    "    split_answer = row['clean_answer'].split()\n",
    "    split_question = row['clean_question'].split()\n",
    "\n",
    "    # Create a variable to track matches\n",
    "    match_count = 0\n",
    "\n",
    "    # Remove the word 'the' from the answer, as it's too common\n",
    "    if 'the' in split_answer:\n",
    "        split_answer.remove('the')\n",
    "\n",
    "    # Avoid division by zero, if the answer list is empty\n",
    "    if len(split_answer) == 0:\n",
    "        return 0\n",
    "\n",
    "    # Count how many words in split_answer occur in split_question\n",
    "    for word in split_answer:\n",
    "        if word in split_question:\n",
    "            match_count += 1\n",
    "\n",
    "    # Return the ratio of matching words to the total words in split_answer\n",
    "    return match_count / len(split_answer)\n",
    "\n",
    "\n",
    "# Apply the function to each row in the DataFrame and create a new column answer_in_question\n",
    "jeopardy['answer_in_question'] = jeopardy.apply(answer_in_question, axis=1)\n",
    "\n",
    "# Calculate the mean of the answer_in_question column\n",
    "mean_answer_in_question = jeopardy['answer_in_question'].mean()\n",
    "\n",
    "# Print the result\n",
    "print(\"Mean of words in the answer that appear in the question:\", mean_answer_in_question)\n"
   ],
   "id": "adc932bb11419fda",
   "outputs": [
    {
     "name": "stdout",
     "output_type": "stream",
     "text": [
      "Mean of words in the answer that appear in the question: 0.057891233559097824\n"
     ]
    }
   ],
   "execution_count": 14
  },
  {
   "metadata": {},
   "cell_type": "markdown",
   "source": "Since very few words appear in previous questions we're better off studying general knowledge",
   "id": "6318af2cb2e780cf"
  },
  {
   "metadata": {
    "ExecuteTime": {
     "end_time": "2024-10-04T07:12:48.829424Z",
     "start_time": "2024-10-04T07:12:45.623237Z"
    }
   },
   "cell_type": "code",
   "source": [
    "# Create an empty list to store the question overlap ratios\n",
    "question_overlap = []\n",
    "\n",
    "# Create an empty set to store previously used terms\n",
    "terms_used = set()\n",
    "\n",
    "# Sort jeopardy by ascending air date\n",
    "jeopardy = jeopardy.sort_values('Air Date')\n",
    "\n",
    "# Iterate through each row in the DataFrame using iterrows\n",
    "for index, row in jeopardy.iterrows():\n",
    "    # Split the clean_question column into words\n",
    "    split_question = row['clean_question'].split()\n",
    "\n",
    "    # Remove words shorter than 6 characters\n",
    "    split_question = [word for word in split_question if len(word) >= 6]\n",
    "\n",
    "    # Initialize match_count to track matching words\n",
    "    match_count = 0\n",
    "\n",
    "    # Check for overlapping words with terms_used\n",
    "    for word in split_question:\n",
    "        if word in terms_used:\n",
    "            match_count += 1\n",
    "\n",
    "    # Add the words to the terms_used set\n",
    "    for word in split_question:\n",
    "        terms_used.add(word)\n",
    "\n",
    "    # Avoid division by zero and calculate overlap ratio\n",
    "    if len(split_question) > 0:\n",
    "        question_overlap_ratio = match_count / len(split_question)\n",
    "    else:\n",
    "        question_overlap_ratio = 0\n",
    "\n",
    "    # Append the overlap ratio to question_overlap\n",
    "    question_overlap.append(question_overlap_ratio)\n",
    "\n",
    "# Assign the overlap list to the question_overlap column in jeopardy\n",
    "jeopardy['question_overlap'] = question_overlap\n",
    "\n",
    "# Calculate and print the mean of the question_overlap column\n",
    "mean_question_overlap = jeopardy['question_overlap'].mean()\n",
    "print(\"Mean of question overlap:\", mean_question_overlap)"
   ],
   "id": "13281c52e3399a67",
   "outputs": [
    {
     "name": "stdout",
     "output_type": "stream",
     "text": [
      "Mean of question overlap: 0.871721036062983\n"
     ]
    }
   ],
   "execution_count": 15
  },
  {
   "metadata": {},
   "cell_type": "markdown",
   "source": "Since the mean is high, terms in previous questions have been used before. It may be worth studying previous questions",
   "id": "c48979aa4c2d5a57"
  },
  {
   "metadata": {
    "ExecuteTime": {
     "end_time": "2024-10-04T07:16:58.536437Z",
     "start_time": "2024-10-04T07:16:30.189842Z"
    }
   },
   "cell_type": "code",
   "source": [
    "import random\n",
    "\n",
    "\n",
    "# Function to classify questions as high value (1) or low value (0)\n",
    "def classify_value(row):\n",
    "    return 1 if row['clean_value'] > 800 else 0\n",
    "\n",
    "\n",
    "# Apply the function to each row to create a high_value column\n",
    "jeopardy['high_value'] = jeopardy.apply(classify_value, axis=1)\n",
    "\n",
    "\n",
    "# Function to count occurrences of a word in high and low value questions\n",
    "def count_word_occurrences(word):\n",
    "    low_count = 0\n",
    "    high_count = 0\n",
    "\n",
    "    # Iterate through each row in the DataFrame\n",
    "    for index, row in jeopardy.iterrows():\n",
    "        split_question = row['clean_question'].split()\n",
    "\n",
    "        # Check if the word is in the question\n",
    "        if word in split_question:\n",
    "            if row['high_value'] == 1:\n",
    "                high_count += 1\n",
    "            else:\n",
    "                low_count += 1\n",
    "\n",
    "    return high_count, low_count\n",
    "\n",
    "\n",
    "# Assuming terms_used is already defined with words from previous steps\n",
    "# Randomly select 10 terms from terms_used\n",
    "comparison_terms = random.sample(list(terms_used), 10)\n",
    "\n",
    "# List to store observed counts for each word\n",
    "observed_expected = []\n",
    "\n",
    "# Loop through each term in comparison_terms\n",
    "for term in comparison_terms:\n",
    "    # Get the high and low counts for the term\n",
    "    high_count, low_count = count_word_occurrences(term)\n",
    "\n",
    "    # Append the result to the observed_expected list\n",
    "    observed_expected.append([term, high_count, low_count])\n",
    "\n",
    "# Print the observed_expected list with term counts\n",
    "for term_data in observed_expected:\n",
    "    term, high_count, low_count = term_data\n",
    "    print(f\"Term: {term}, High Count: {high_count}, Low Count: {low_count}\")\n"
   ],
   "id": "720fe9c1451c0ea1",
   "outputs": [
    {
     "name": "stdout",
     "output_type": "stream",
     "text": [
      "Term: eduskunta, High Count: 1, Low Count: 0\n",
      "Term: targetblankcornerstonea, High Count: 0, Low Count: 1\n",
      "Term: frutti, High Count: 0, Low Count: 5\n",
      "Term: dooryard, High Count: 4, Low Count: 3\n",
      "Term: panchakosi, High Count: 0, Low Count: 1\n",
      "Term: accompany, High Count: 4, Low Count: 13\n",
      "Term: tenniel, High Count: 0, Low Count: 1\n",
      "Term: recruits, High Count: 3, Low Count: 7\n",
      "Term: fraudulent, High Count: 1, Low Count: 5\n",
      "Term: supertournament, High Count: 0, Low Count: 1\n"
     ]
    }
   ],
   "execution_count": 17
  },
  {
   "metadata": {
    "ExecuteTime": {
     "end_time": "2024-10-04T07:18:52.292448Z",
     "start_time": "2024-10-04T07:18:51.731722Z"
    }
   },
   "cell_type": "code",
   "source": [
    "from scipy.stats import chisquare\n",
    "\n",
    "# Find the number of rows where high_value is 1 and 0\n",
    "high_value_count = jeopardy[jeopardy['high_value'] == 1].shape[0]\n",
    "low_value_count = jeopardy[jeopardy['high_value'] == 0].shape[0]\n",
    "\n",
    "# Create an empty list to store chi-squared results\n",
    "chi_squared = []\n",
    "\n",
    "# Total number of rows in jeopardy\n",
    "total_rows = jeopardy.shape[0]\n",
    "\n",
    "# Loop through the observed counts\n",
    "for term_data in observed_expected:\n",
    "    term, high_count, low_count = term_data\n",
    "\n",
    "    # Add the high and low counts to get the total count for the term\n",
    "    total = high_count + low_count\n",
    "\n",
    "    # Calculate the proportion of times the term appears in the dataset\n",
    "    total_prop = total / total_rows\n",
    "\n",
    "    # Calculate the expected counts for high and low value questions\n",
    "    expected_high = total_prop * high_value_count\n",
    "    expected_low = total_prop * low_value_count\n",
    "\n",
    "    # Compute the chi-squared value and p-value\n",
    "    observed = [high_count, low_count]\n",
    "    expected = [expected_high, expected_low]\n",
    "\n",
    "    chi2, p_value = chisquare(f_obs=observed, f_exp=expected)\n",
    "\n",
    "    # Append the term, chi-squared value, and p-value to chi_squared list\n",
    "    chi_squared.append([term, chi2, p_value])\n",
    "\n",
    "# Print the chi-squared results\n",
    "for result in chi_squared:\n",
    "    term, chi2, p_value = result\n",
    "    print(f\"Term: {term}, Chi-Squared: {chi2}, p-value: {p_value}\")"
   ],
   "id": "6b13898bd6a712d7",
   "outputs": [
    {
     "name": "stdout",
     "output_type": "stream",
     "text": [
      "Term: eduskunta, Chi-Squared: 2.5317964247338085, p-value: 0.11157312838169751\n",
      "Term: targetblankcornerstonea, Chi-Squared: 0.3949764642333513, p-value: 0.5296950912486695\n",
      "Term: frutti, Chi-Squared: 1.974882321166757, p-value: 0.15993058334750937\n",
      "Term: dooryard, Chi-Squared: 2.8662187105487287, p-value: 0.09045716995788881\n",
      "Term: panchakosi, Chi-Squared: 0.3949764642333513, p-value: 0.5296950912486695\n",
      "Term: accompany, Chi-Squared: 0.1917508971280775, p-value: 0.6614633388942732\n",
      "Term: tenniel, Chi-Squared: 0.3949764642333513, p-value: 0.5296950912486695\n",
      "Term: recruits, Chi-Squared: 0.014001457003849405, p-value: 0.9058079685768663\n",
      "Term: fraudulent, Chi-Squared: 0.4010346717612653, p-value: 0.5265553925560026\n",
      "Term: supertournament, Chi-Squared: 0.3949764642333513, p-value: 0.5296950912486695\n"
     ]
    }
   ],
   "execution_count": 18
  },
  {
   "metadata": {},
   "cell_type": "markdown",
   "source": "Conclusion. It doesn't seem like the terms used have high chi-squared and most have a p-value above 0.1, so correlation is loose and could be due to chance",
   "id": "7430d61645a7d758"
  }
 ],
 "metadata": {
  "kernelspec": {
   "display_name": "Python 3",
   "language": "python",
   "name": "python3"
  },
  "language_info": {
   "codemirror_mode": {
    "name": "ipython",
    "version": 2
   },
   "file_extension": ".py",
   "mimetype": "text/x-python",
   "name": "python",
   "nbconvert_exporter": "python",
   "pygments_lexer": "ipython2",
   "version": "2.7.6"
  }
 },
 "nbformat": 4,
 "nbformat_minor": 5
}
