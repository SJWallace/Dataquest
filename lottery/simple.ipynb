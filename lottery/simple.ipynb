{
 "cells": [
  {
   "metadata": {},
   "cell_type": "markdown",
   "source": "# Guided Proejct: Mobile App for Lottery Addiction",
   "id": "8a77807f92f26ee"
  },
  {
   "metadata": {},
   "cell_type": "markdown",
   "source": "Aim of this notebook is to build a set of tools to help users calculate the probability of winning the lottery under various conditions, so they can see their odds to help break addiction. We'll be simulating the following lottery https://en.wikipedia.org/wiki/Lotto_6/49",
   "id": "39ba45df0e4c4627"
  },
  {
   "metadata": {
    "ExecuteTime": {
     "end_time": "2024-10-03T12:40:28.099053Z",
     "start_time": "2024-10-03T12:40:28.096821Z"
    }
   },
   "cell_type": "code",
   "source": [
    "# Import libraries\n",
    "import pandas as pd\n",
    "import matplotlib.pyplot as plt\n",
    "import math"
   ],
   "id": "7df9140457caed5e",
   "outputs": [],
   "execution_count": 5
  },
  {
   "metadata": {
    "ExecuteTime": {
     "end_time": "2024-10-03T12:39:47.999434Z",
     "start_time": "2024-10-03T12:39:47.996712Z"
    }
   },
   "cell_type": "code",
   "source": [
    "def factorial(n):\n",
    "    return math.factorial(n)\n",
    "\n",
    "\n",
    "def combinations(n, k):\n",
    "    return math.comb(n, k)\n"
   ],
   "id": "355d36b1f0f5e228",
   "outputs": [],
   "execution_count": 2
  },
  {
   "metadata": {
    "ExecuteTime": {
     "end_time": "2024-10-03T12:39:49.036885Z",
     "start_time": "2024-10-03T12:39:49.034674Z"
    }
   },
   "cell_type": "code",
   "source": [
    "def one_ticket_probability(user_numbers):\n",
    "    total_outcomes = combinations(49, 6)\n",
    "    probability = 1 / total_outcomes\n",
    "    percentage_form = probability * 100\n",
    "    print('''Your chances to win the big prize with the numbers {} are {:.7f}%.\n",
    "In other words, you have a 1 in {:,} chances to win.'''.format(user_numbers,\n",
    "                                                               percentage_form, int(total_outcomes)\n",
    "                                                               )\n",
    "          )"
   ],
   "id": "73bd3a4f24b16a66",
   "outputs": [],
   "execution_count": 3
  },
  {
   "metadata": {
    "ExecuteTime": {
     "end_time": "2024-10-03T12:40:30.459419Z",
     "start_time": "2024-10-03T12:40:30.456847Z"
    }
   },
   "cell_type": "code",
   "source": [
    "numbers_1 = [2, 5, 13, 24, 25, 36]\n",
    "one_ticket_probability(numbers_1)"
   ],
   "id": "8c1a81434654b6f1",
   "outputs": [
    {
     "name": "stdout",
     "output_type": "stream",
     "text": [
      "Your chances to win the big prize with the numbers [2, 5, 13, 24, 25, 36] are 0.0000072%.\n",
      "In other words, you have a 1 in 13,983,816 chances to win.\n"
     ]
    }
   ],
   "execution_count": 6
  },
  {
   "metadata": {
    "ExecuteTime": {
     "end_time": "2024-10-03T12:43:31.141780Z",
     "start_time": "2024-10-03T12:43:31.133992Z"
    }
   },
   "cell_type": "code",
   "source": [
    "lottery_results = pd.read_csv('649.csv')\n",
    "lottery_results.head()\n"
   ],
   "id": "2bb48a05a52ba1d4",
   "outputs": [
    {
     "data": {
      "text/plain": [
       "   PRODUCT  DRAW NUMBER  SEQUENCE NUMBER  DRAW DATE  NUMBER DRAWN 1  \\\n",
       "0      649            1                0  6/12/1982               3   \n",
       "1      649            2                0  6/19/1982               8   \n",
       "2      649            3                0  6/26/1982               1   \n",
       "3      649            4                0   7/3/1982               3   \n",
       "4      649            5                0  7/10/1982               5   \n",
       "\n",
       "   NUMBER DRAWN 2  NUMBER DRAWN 3  NUMBER DRAWN 4  NUMBER DRAWN 5  \\\n",
       "0              11              12              14              41   \n",
       "1              33              36              37              39   \n",
       "2               6              23              24              27   \n",
       "3               9              10              13              20   \n",
       "4              14              21              31              34   \n",
       "\n",
       "   NUMBER DRAWN 6  BONUS NUMBER  \n",
       "0              43            13  \n",
       "1              41             9  \n",
       "2              39            34  \n",
       "3              43            34  \n",
       "4              47            45  "
      ],
      "text/html": [
       "<div>\n",
       "<style scoped>\n",
       "    .dataframe tbody tr th:only-of-type {\n",
       "        vertical-align: middle;\n",
       "    }\n",
       "\n",
       "    .dataframe tbody tr th {\n",
       "        vertical-align: top;\n",
       "    }\n",
       "\n",
       "    .dataframe thead th {\n",
       "        text-align: right;\n",
       "    }\n",
       "</style>\n",
       "<table border=\"1\" class=\"dataframe\">\n",
       "  <thead>\n",
       "    <tr style=\"text-align: right;\">\n",
       "      <th></th>\n",
       "      <th>PRODUCT</th>\n",
       "      <th>DRAW NUMBER</th>\n",
       "      <th>SEQUENCE NUMBER</th>\n",
       "      <th>DRAW DATE</th>\n",
       "      <th>NUMBER DRAWN 1</th>\n",
       "      <th>NUMBER DRAWN 2</th>\n",
       "      <th>NUMBER DRAWN 3</th>\n",
       "      <th>NUMBER DRAWN 4</th>\n",
       "      <th>NUMBER DRAWN 5</th>\n",
       "      <th>NUMBER DRAWN 6</th>\n",
       "      <th>BONUS NUMBER</th>\n",
       "    </tr>\n",
       "  </thead>\n",
       "  <tbody>\n",
       "    <tr>\n",
       "      <th>0</th>\n",
       "      <td>649</td>\n",
       "      <td>1</td>\n",
       "      <td>0</td>\n",
       "      <td>6/12/1982</td>\n",
       "      <td>3</td>\n",
       "      <td>11</td>\n",
       "      <td>12</td>\n",
       "      <td>14</td>\n",
       "      <td>41</td>\n",
       "      <td>43</td>\n",
       "      <td>13</td>\n",
       "    </tr>\n",
       "    <tr>\n",
       "      <th>1</th>\n",
       "      <td>649</td>\n",
       "      <td>2</td>\n",
       "      <td>0</td>\n",
       "      <td>6/19/1982</td>\n",
       "      <td>8</td>\n",
       "      <td>33</td>\n",
       "      <td>36</td>\n",
       "      <td>37</td>\n",
       "      <td>39</td>\n",
       "      <td>41</td>\n",
       "      <td>9</td>\n",
       "    </tr>\n",
       "    <tr>\n",
       "      <th>2</th>\n",
       "      <td>649</td>\n",
       "      <td>3</td>\n",
       "      <td>0</td>\n",
       "      <td>6/26/1982</td>\n",
       "      <td>1</td>\n",
       "      <td>6</td>\n",
       "      <td>23</td>\n",
       "      <td>24</td>\n",
       "      <td>27</td>\n",
       "      <td>39</td>\n",
       "      <td>34</td>\n",
       "    </tr>\n",
       "    <tr>\n",
       "      <th>3</th>\n",
       "      <td>649</td>\n",
       "      <td>4</td>\n",
       "      <td>0</td>\n",
       "      <td>7/3/1982</td>\n",
       "      <td>3</td>\n",
       "      <td>9</td>\n",
       "      <td>10</td>\n",
       "      <td>13</td>\n",
       "      <td>20</td>\n",
       "      <td>43</td>\n",
       "      <td>34</td>\n",
       "    </tr>\n",
       "    <tr>\n",
       "      <th>4</th>\n",
       "      <td>649</td>\n",
       "      <td>5</td>\n",
       "      <td>0</td>\n",
       "      <td>7/10/1982</td>\n",
       "      <td>5</td>\n",
       "      <td>14</td>\n",
       "      <td>21</td>\n",
       "      <td>31</td>\n",
       "      <td>34</td>\n",
       "      <td>47</td>\n",
       "      <td>45</td>\n",
       "    </tr>\n",
       "  </tbody>\n",
       "</table>\n",
       "</div>"
      ]
     },
     "execution_count": 8,
     "metadata": {},
     "output_type": "execute_result"
    }
   ],
   "execution_count": 8
  },
  {
   "metadata": {
    "ExecuteTime": {
     "end_time": "2024-10-03T12:43:52.517899Z",
     "start_time": "2024-10-03T12:43:52.513270Z"
    }
   },
   "cell_type": "code",
   "source": "lottery_results.tail()",
   "id": "b48d4249f6af5461",
   "outputs": [
    {
     "data": {
      "text/plain": [
       "      PRODUCT  DRAW NUMBER  SEQUENCE NUMBER  DRAW DATE  NUMBER DRAWN 1  \\\n",
       "3660      649         3587                0   6/6/2018              10   \n",
       "3661      649         3588                0   6/9/2018              19   \n",
       "3662      649         3589                0  6/13/2018               6   \n",
       "3663      649         3590                0  6/16/2018               2   \n",
       "3664      649         3591                0  6/20/2018              14   \n",
       "\n",
       "      NUMBER DRAWN 2  NUMBER DRAWN 3  NUMBER DRAWN 4  NUMBER DRAWN 5  \\\n",
       "3660              15              23              38              40   \n",
       "3661              25              31              36              46   \n",
       "3662              22              24              31              32   \n",
       "3663              15              21              31              38   \n",
       "3664              24              31              35              37   \n",
       "\n",
       "      NUMBER DRAWN 6  BONUS NUMBER  \n",
       "3660              41            35  \n",
       "3661              47            26  \n",
       "3662              34            16  \n",
       "3663              49             8  \n",
       "3664              48            17  "
      ],
      "text/html": [
       "<div>\n",
       "<style scoped>\n",
       "    .dataframe tbody tr th:only-of-type {\n",
       "        vertical-align: middle;\n",
       "    }\n",
       "\n",
       "    .dataframe tbody tr th {\n",
       "        vertical-align: top;\n",
       "    }\n",
       "\n",
       "    .dataframe thead th {\n",
       "        text-align: right;\n",
       "    }\n",
       "</style>\n",
       "<table border=\"1\" class=\"dataframe\">\n",
       "  <thead>\n",
       "    <tr style=\"text-align: right;\">\n",
       "      <th></th>\n",
       "      <th>PRODUCT</th>\n",
       "      <th>DRAW NUMBER</th>\n",
       "      <th>SEQUENCE NUMBER</th>\n",
       "      <th>DRAW DATE</th>\n",
       "      <th>NUMBER DRAWN 1</th>\n",
       "      <th>NUMBER DRAWN 2</th>\n",
       "      <th>NUMBER DRAWN 3</th>\n",
       "      <th>NUMBER DRAWN 4</th>\n",
       "      <th>NUMBER DRAWN 5</th>\n",
       "      <th>NUMBER DRAWN 6</th>\n",
       "      <th>BONUS NUMBER</th>\n",
       "    </tr>\n",
       "  </thead>\n",
       "  <tbody>\n",
       "    <tr>\n",
       "      <th>3660</th>\n",
       "      <td>649</td>\n",
       "      <td>3587</td>\n",
       "      <td>0</td>\n",
       "      <td>6/6/2018</td>\n",
       "      <td>10</td>\n",
       "      <td>15</td>\n",
       "      <td>23</td>\n",
       "      <td>38</td>\n",
       "      <td>40</td>\n",
       "      <td>41</td>\n",
       "      <td>35</td>\n",
       "    </tr>\n",
       "    <tr>\n",
       "      <th>3661</th>\n",
       "      <td>649</td>\n",
       "      <td>3588</td>\n",
       "      <td>0</td>\n",
       "      <td>6/9/2018</td>\n",
       "      <td>19</td>\n",
       "      <td>25</td>\n",
       "      <td>31</td>\n",
       "      <td>36</td>\n",
       "      <td>46</td>\n",
       "      <td>47</td>\n",
       "      <td>26</td>\n",
       "    </tr>\n",
       "    <tr>\n",
       "      <th>3662</th>\n",
       "      <td>649</td>\n",
       "      <td>3589</td>\n",
       "      <td>0</td>\n",
       "      <td>6/13/2018</td>\n",
       "      <td>6</td>\n",
       "      <td>22</td>\n",
       "      <td>24</td>\n",
       "      <td>31</td>\n",
       "      <td>32</td>\n",
       "      <td>34</td>\n",
       "      <td>16</td>\n",
       "    </tr>\n",
       "    <tr>\n",
       "      <th>3663</th>\n",
       "      <td>649</td>\n",
       "      <td>3590</td>\n",
       "      <td>0</td>\n",
       "      <td>6/16/2018</td>\n",
       "      <td>2</td>\n",
       "      <td>15</td>\n",
       "      <td>21</td>\n",
       "      <td>31</td>\n",
       "      <td>38</td>\n",
       "      <td>49</td>\n",
       "      <td>8</td>\n",
       "    </tr>\n",
       "    <tr>\n",
       "      <th>3664</th>\n",
       "      <td>649</td>\n",
       "      <td>3591</td>\n",
       "      <td>0</td>\n",
       "      <td>6/20/2018</td>\n",
       "      <td>14</td>\n",
       "      <td>24</td>\n",
       "      <td>31</td>\n",
       "      <td>35</td>\n",
       "      <td>37</td>\n",
       "      <td>48</td>\n",
       "      <td>17</td>\n",
       "    </tr>\n",
       "  </tbody>\n",
       "</table>\n",
       "</div>"
      ]
     },
     "execution_count": 9,
     "metadata": {},
     "output_type": "execute_result"
    }
   ],
   "execution_count": 9
  },
  {
   "metadata": {},
   "cell_type": "markdown",
   "source": "",
   "id": "c1c125874cd5e6e9"
  },
  {
   "metadata": {},
   "cell_type": "markdown",
   "source": [
    "The engineering team told us that we need to be aware of the following details:\n",
    "\n",
    "Inside the app, the user inputs six different numbers from 1 to 49.\n",
    "Under the hood, the six numbers will come as a Python list and serve as an input to our function.\n",
    "The engineering team wants us to write a function that prints:\n",
    "the number of times the combination selected occurred in the Canada data set; and\n",
    "the probability of winning the big prize in the next drawing with that combination.\n",
    "We'll now start working on writing this function. Note there's more than one way to solve this problem, so take the instructions below as suggestions."
   ],
   "id": "b8f2539772647ad9"
  },
  {
   "metadata": {
    "ExecuteTime": {
     "end_time": "2024-10-03T12:47:15.995059Z",
     "start_time": "2024-10-03T12:47:15.969556Z"
    }
   },
   "cell_type": "code",
   "source": [
    "# Step 1: Define a function to extract the six winning numbers from a row as a set\n",
    "def extract_numbers(row):\n",
    "    return {row['NUMBER DRAWN 1'], row['NUMBER DRAWN 2'], row['NUMBER DRAWN 3'],\n",
    "            row['NUMBER DRAWN 4'], row['NUMBER DRAWN 5'], row['NUMBER DRAWN 6']}\n",
    "\n",
    "\n",
    "# Step 2: Apply the function to the DataFrame to extract all winning numbers\n",
    "lottery_results['winning_numbers_set'] = lottery_results.apply(extract_numbers, axis=1)\n",
    "\n",
    "\n",
    "# Step 3: Define a function to check historical occurrence of a user's number combination\n",
    "def check_historical_occurrence(user_numbers, winning_numbers_series):\n",
    "    user_numbers_set = set(user_numbers)\n",
    "    matches = winning_numbers_series.apply(lambda x: x == user_numbers_set)\n",
    "\n",
    "    # Output the number of matches and calculate probability\n",
    "    occurrence_count = matches.sum()\n",
    "    total_draws = len(winning_numbers_series)\n",
    "    probability = (1 / total_draws) if occurrence_count > 0 else 0\n",
    "\n",
    "    print(f\"The combination {user_numbers} occurred {occurrence_count} times in the past.\")\n",
    "    print(f\"The probability of winning with this combination in the next draw is approximately {probability:.8f}\")\n",
    "\n",
    "\n",
    "# Example: Test the function with a sample user input\n",
    "user_input = [3, 41, 11, 12, 43, 14]\n",
    "check_historical_occurrence(user_input, lottery_results['winning_numbers_set'])\n"
   ],
   "id": "ccf7b42926ebc247",
   "outputs": [
    {
     "name": "stdout",
     "output_type": "stream",
     "text": [
      "The combination [3, 41, 11, 12, 43, 14] occurred 1 times in the past.\n",
      "The probability of winning with this combination in the next draw is approximately 0.00027285\n"
     ]
    }
   ],
   "execution_count": 10
  },
  {
   "metadata": {
    "ExecuteTime": {
     "end_time": "2024-10-03T12:49:11.876969Z",
     "start_time": "2024-10-03T12:49:11.873863Z"
    }
   },
   "cell_type": "code",
   "source": [
    "# Step 2: Define the multi_ticket_probability function\n",
    "def multi_ticket_probability(number_of_tickets):\n",
    "    # Total number of combinations for a 6-number lottery ticket from 49 numbers\n",
    "    total_outcomes = combinations(49, 6)\n",
    "\n",
    "    # Successful outcomes equal the number of tickets played\n",
    "    successful_outcomes = number_of_tickets\n",
    "\n",
    "    # Calculate the probability\n",
    "    probability = successful_outcomes / total_outcomes\n",
    "\n",
    "    # Print the result as a percentage with explanation\n",
    "    print(\"The probability of winning with {} ticket(s) is {:.10f}%.\".format(number_of_tickets, probability * 100))\n",
    "\n",
    "\n",
    "# Step 3: Test the function with the provided inputs\n",
    "test_inputs = [1, 10, 100, 10000, 1000000, 6991908, 13983816]\n",
    "for tickets in test_inputs:\n",
    "    multi_ticket_probability(tickets)"
   ],
   "id": "9a6922cf13e7fc31",
   "outputs": [
    {
     "name": "stdout",
     "output_type": "stream",
     "text": [
      "The probability of winning with 1 ticket(s) is 0.0000071511%.\n",
      "The probability of winning with 10 ticket(s) is 0.0000715112%.\n",
      "The probability of winning with 100 ticket(s) is 0.0007151124%.\n",
      "The probability of winning with 10000 ticket(s) is 0.0715112384%.\n",
      "The probability of winning with 1000000 ticket(s) is 7.1511238420%.\n",
      "The probability of winning with 6991908 ticket(s) is 50.0000000000%.\n",
      "The probability of winning with 13983816 ticket(s) is 100.0000000000%.\n"
     ]
    }
   ],
   "execution_count": 11
  },
  {
   "metadata": {},
   "cell_type": "code",
   "outputs": [],
   "execution_count": null,
   "source": "",
   "id": "35400260c0a802d4"
  },
  {
   "metadata": {
    "ExecuteTime": {
     "end_time": "2024-10-03T12:50:24.395909Z",
     "start_time": "2024-10-03T12:50:24.392900Z"
    }
   },
   "cell_type": "code",
   "source": [
    "# Step 1: Define the probability_less_6 function\n",
    "def probability_less_6(matches):\n",
    "    if matches < 2 or matches > 5:\n",
    "        print(\"Please input an integer between 2 and 5.\")\n",
    "        return\n",
    "    \n",
    "    # Total number of combinations for a 6-number lottery ticket from 49 numbers\n",
    "    total_outcomes = combinations(49, 6)\n",
    "    \n",
    "    # Number of successful outcomes depends on the number of matches\n",
    "    # We need to combine the successful matches with the remaining unmatched numbers\n",
    "    # For `matches` successful, we choose `matches` from 6, and the remaining from 43\n",
    "    successful_outcomes = combinations(6, matches) * combinations(43, 6 - matches)\n",
    "    \n",
    "    # Calculate the probability\n",
    "    probability = successful_outcomes / total_outcomes\n",
    "    \n",
    "    # Print the result as a percentage with explanation\n",
    "    print(\"The probability of matching exactly {} number(s) is {:.10f}%.\".format(matches, probability * 100))\n",
    "\n",
    "\n",
    "# Step 2: Test the function with inputs: 2, 3, 4, 5\n",
    "for match in range(2, 6):\n",
    "    probability_less_6(match)\n"
   ],
   "id": "8d66612f00c99dc4",
   "outputs": [
    {
     "name": "stdout",
     "output_type": "stream",
     "text": [
      "The probability of matching exactly 2 number(s) is 13.2378029002%.\n",
      "The probability of matching exactly 3 number(s) is 1.7650403867%.\n",
      "The probability of matching exactly 4 number(s) is 0.0968619724%.\n",
      "The probability of matching exactly 5 number(s) is 0.0018449900%.\n"
     ]
    }
   ],
   "execution_count": 12
  }
 ],
 "metadata": {
  "kernelspec": {
   "display_name": "Python 3",
   "language": "python",
   "name": "python3"
  },
  "language_info": {
   "codemirror_mode": {
    "name": "ipython",
    "version": 2
   },
   "file_extension": ".py",
   "mimetype": "text/x-python",
   "name": "python",
   "nbconvert_exporter": "python",
   "pygments_lexer": "ipython2",
   "version": "2.7.6"
  }
 },
 "nbformat": 4,
 "nbformat_minor": 5
}
